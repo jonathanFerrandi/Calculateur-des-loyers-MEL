{
  "nbformat": 4,
  "nbformat_minor": 0,
  "metadata": {
    "colab": {
      "provenance": [],
      "mount_file_id": "1zSMHWQfwdv6LmryBln-O53uLyqmvijB7",
      "authorship_tag": "ABX9TyNfry1+RWk/j62vRfH9LtD4",
      "include_colab_link": true
    },
    "kernelspec": {
      "name": "python3",
      "display_name": "Python 3"
    },
    "language_info": {
      "name": "python"
    }
  },
  "cells": [
    {
      "cell_type": "markdown",
      "metadata": {
        "id": "view-in-github",
        "colab_type": "text"
      },
      "source": [
        "<a href=\"https://colab.research.google.com/github/jonathanFerrandi/Calculateur-des-loyers-MEL/blob/main/Untitled0.ipynb\" target=\"_parent\"><img src=\"https://colab.research.google.com/assets/colab-badge.svg\" alt=\"Open In Colab\"/></a>"
      ]
    },
    {
      "cell_type": "code",
      "source": [
        "# Script de calcul pour le montant des loyers réference sur la MEL\n",
        "\n",
        "import pandas as pd\n",
        "import numpy as np\n",
        "\n",
        "\n",
        "df = pd.read_excel('drive/MyDrive/Colab Notebooks/ref_loyers_LLH.xlsx')\n",
        "\n",
        "# Ajouter une colonne d'index\n",
        "df['Index'] = df.index\n",
        "\n",
        "# Déplacer la colonne 'Index' en première position\n",
        "cols = df.columns.tolist()\n",
        "cols = cols[-1:] + cols[:-1]\n",
        "df = df[cols]\n",
        "#print(df)\n",
        "\n",
        "\n",
        "# input des infos\n",
        "secteur = int(input(\"Votre secteur : \"))\n",
        "if not type(secteur) is int:\n",
        "  raise TypeError(\"Ce n'est pas un nombre entier valide.\")\n",
        "\n",
        "nb_piece = int(input(\"Nombre de pièce : \"))\n",
        "if not type(nb_piece) is int:\n",
        "  raise TypeError(\"Ce n'est pas un nombre entier valide.\")\n",
        "if nb_piece > 4:\n",
        "  nb_piece = \"4+\"\n",
        "\n",
        "annee = int(input(\"Année de construction : \"))\n",
        "if not type(annee) is int:\n",
        "  raise TypeError(\"Ce n'est pas un nombre entier valide.\")\n",
        "if annee < 1946:\n",
        "  annee = \"Avant 1946\"\n",
        "elif annee >= 1946 and annee <= 1970:\n",
        "  annee = \"1946 - 1970\"\n",
        "elif annee >= 1971 and annee <= 1990:\n",
        "  annee = \"1971 - 1990\"\n",
        "else :\n",
        "  annee = \"Après 1990\"\n",
        "\n",
        "# print(annee)\n",
        "\n",
        "surface = int(input(\"Surface en M² : \"))\n",
        "if not type(surface) is int:\n",
        "  raise TypeError(\"Ce n'est pas un nombre entier valide.\")\n",
        "\n",
        "loc_type = str(input(\"Quelle est le type de location ? (M pour Meublé et NM pour Nom Meublé) : \"))\n",
        "if loc_type != 'M' and loc_type != 'NM':\n",
        "  raise TypeError(\"Ce n'est pas une valeur souhaitée.\")\n",
        "print()\n",
        "\n",
        "if loc_type == 'M':\n",
        "  print(\"Le bien meublé, daté \" + annee + \", est situé dans le secteur \" + str(secteur) + \" avec \" + str(nb_piece) + \" pièce(s) et d'une surface de \" + str(surface) + \"m².\")\n",
        "else:\n",
        "  print(\"Le bien non meublé, daté \" + annee + \", est situé dans le secteur \" + str(secteur) + \" avec \" + str(nb_piece) + \" pièce(s) et d'une surface de \" + str(surface) + \"m².\")\n",
        "\n",
        "# Calcul le prix des differents loyers\n",
        "\n",
        "# Filtre de la DataFrame pour récupérer la ligne concerné\n",
        "resultat = (df['Secteur'] == secteur) & (df['nb_pieces'] == nb_piece) & (df['epoque_construction'] == annee)\n",
        "df_filtred = df[resultat]\n",
        "\n",
        "# Récupération des différents indices\n",
        "indice_ref_m = df_filtred['loyer_ref_m'].iloc[0]\n",
        "indice_maj_m = df_filtred['ref_maj_m'].iloc[0]\n",
        "indice_min_m = df_filtred['ref_min_m'].iloc[0]\n",
        "indice_ref_nm = df_filtred['loyer_ref_nm'].iloc[0]\n",
        "indice_maj_nm = df_filtred['ref_maj_nm'].iloc[0]\n",
        "indice_min_nm = df_filtred['ref_min_nm'].iloc[0]\n",
        "\n",
        "# Calcul des différents loyers\n",
        "loyer_ref_m = indice_ref_m * surface\n",
        "loyer_maj_m = indice_maj_m * surface\n",
        "loyer_min_m = indice_min_m * surface\n",
        "loyer_ref_nm = indice_ref_nm * surface\n",
        "loyer_maj_nm = indice_maj_nm * surface\n",
        "loyer_min_nm = indice_min_nm * surface\n",
        "\n",
        "# Impression des résultats\n",
        "if loc_type == 'M':\n",
        "  print('Le loyer de référence du bien est de ' + str(loyer_ref_m) + '€')\n",
        "  print('Le loyer majoré du bien est de ' + str(loyer_maj_m) + '€')\n",
        "  print('Le loyer minoré du bien est de ' + str(loyer_min_m) + '€')\n",
        "else:\n",
        "  print('Le loyer de référence du bien est de ' + str(loyer_ref_nm) + '€')\n",
        "  print('Le loyer majoré du bien est de ' + str(loyer_maj_nm) + '€')\n",
        "  print('Le loyer minoré du bien est de ' + str(loyer_min_nm) + '€')\n",
        "\n",
        "\n",
        "\n"
      ],
      "metadata": {
        "id": "dDTwj4gKA0Qg",
        "colab": {
          "base_uri": "https://localhost:8080/"
        },
        "outputId": "3147cd0f-b5ca-4871-ec27-5a0409f635cf"
      },
      "execution_count": 1,
      "outputs": [
        {
          "output_type": "stream",
          "name": "stdout",
          "text": [
            "Votre secteur : 1\n",
            "Nombre de pièce : 3\n",
            "Année de construction : 1996\n",
            "Surface en M² : 65\n",
            "Quelle est le type de location ? (M pour Meublé et NM pour Nom Meublé) : M\n",
            "\n",
            "Le bien meublé, daté Après 1990, est situé dans le secteur 1 avec 3 pièce(s) et d'une surface de 65m².\n",
            "Le loyer de référence du bien est de 877.5€\n",
            "Le loyer majoré du bien est de 1053.0€\n",
            "Le loyer minoré du bien est de 617.5€\n"
          ]
        }
      ]
    },
    {
      "cell_type": "markdown",
      "source": [
        "# Nouvelle section"
      ],
      "metadata": {
        "id": "SCJWleD4K5H-"
      }
    }
  ]
}